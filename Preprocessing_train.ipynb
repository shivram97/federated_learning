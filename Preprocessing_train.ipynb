{
 "cells": [
  {
   "cell_type": "code",
   "execution_count": 6,
   "id": "fb436bcb-3618-45b3-9ac4-0d70b46a4164",
   "metadata": {},
   "outputs": [],
   "source": [
    "import pandas as pd\n",
    "import numpy as np\n",
    "import os\n",
    "import pandas as pd\n",
    "from sklearn.preprocessing import LabelEncoder, OneHotEncoder\n"
   ]
  },
  {
   "cell_type": "code",
   "execution_count": 7,
   "id": "10855545-0107-4018-bbc3-ab282a96ad39",
   "metadata": {},
   "outputs": [],
   "source": [
    "\n",
    "drug_count = pd.read_csv('C:/Users/eshiv/code_task_federated/DrugCount.csv')\n",
    "lab_count = pd.read_csv('C:/Users/eshiv/code_task_federated/LabCount.csv')\n",
    "members = pd.read_csv('C:/Users/eshiv/code_task_federated/Members.csv')"
   ]
  },
  {
   "cell_type": "code",
   "execution_count": 8,
   "id": "302fe9cc-d4a5-4fba-89d9-dd0e99e47963",
   "metadata": {},
   "outputs": [],
   "source": [
    "#import dataset\n",
    "test_set = pd.read_csv('C:/Users/eshiv/code_task_federated/train_data_client0.csv')"
   ]
  },
  {
   "cell_type": "code",
   "execution_count": 9,
   "id": "f31c852b-3eb2-4f60-ac33-027c969b9596",
   "metadata": {},
   "outputs": [
    {
     "name": "stdout",
     "output_type": "stream",
     "text": [
      "        MemberID  Vendor    PCP Year   Specialty         PlaceSvc PayDelay  \\\n",
      "0       33385188  240043  68968   Y1  Laboratory  Independent Lab       24   \n",
      "1       33385188  240043  68968   Y1  Laboratory  Independent Lab       24   \n",
      "2       33385188  240043  68968   Y1  Laboratory  Independent Lab       24   \n",
      "3       33385188  240043  68968   Y1  Laboratory  Independent Lab       24   \n",
      "4       33385188  240043  68968   Y1  Laboratory  Independent Lab       24   \n",
      "...          ...     ...    ...  ...         ...              ...      ...   \n",
      "605974  27578777  240043  77134   Y1  Laboratory  Independent Lab       29   \n",
      "605975  27578777  240043  77134   Y1  Laboratory  Independent Lab       29   \n",
      "605976  27578777  240043  77134   Y1  Laboratory  Independent Lab       29   \n",
      "605977  16280134  240043  48757   Y1  Laboratory  Independent Lab       36   \n",
      "605978  20528808  240043  26051   Y1  Laboratory  Independent Lab       30   \n",
      "\n",
      "        LengthOfStay PrimaryConditionGroup CharlsonIndex ProcedureGroup  \\\n",
      "0                NaN                HEART2           1-2             PL   \n",
      "1                NaN                HEART2           1-2             PL   \n",
      "2                NaN                HEART2           1-2             PL   \n",
      "3                NaN                HEART2           1-2             PL   \n",
      "4                NaN                HEART2           1-2             PL   \n",
      "...              ...                   ...           ...            ...   \n",
      "605974           NaN                MSC2a3             0             PL   \n",
      "605975           NaN                MSC2a3             0             PL   \n",
      "605976           NaN                MSC2a3             0             PL   \n",
      "605977           NaN                RESPR4             0             PL   \n",
      "605978           NaN                TRAUMA             0             PL   \n",
      "\n",
      "        ClaimsTruncated  DaysInHospital DaySinceFirstClaim  LOSSuppression  \\\n",
      "0                   0.0             0.0        6- 7 months               0   \n",
      "1                   0.0             0.0        6- 7 months               0   \n",
      "2                   0.0             0.0        6- 7 months               0   \n",
      "3                   0.0             0.0        6- 7 months               0   \n",
      "4                   0.0             0.0        6- 7 months               0   \n",
      "...                 ...             ...                ...             ...   \n",
      "605974              0.0             0.0        5- 6 months               0   \n",
      "605975              0.0             0.0        5- 6 months               0   \n",
      "605976              0.0             0.0        5- 6 months               0   \n",
      "605977              0.0             0.0         0- 1 month               0   \n",
      "605978              0.0             0.0         0- 1 month               0   \n",
      "\n",
      "                DSFS DrugCount  \n",
      "0        6- 7 months         2  \n",
      "1         0- 1 month         3  \n",
      "2       10-11 months         2  \n",
      "3        2- 3 months         2  \n",
      "4        8- 9 months         3  \n",
      "...              ...       ...  \n",
      "605974   2- 3 months         1  \n",
      "605975    0- 1 month         2  \n",
      "605976   8- 9 months         1  \n",
      "605977    0- 1 month         2  \n",
      "605978    0- 1 month         5  \n",
      "\n",
      "[605979 rows x 17 columns]\n"
     ]
    }
   ],
   "source": [
    "#trainset with DrugCount and LabCount\n",
    "merged_df = pd.merge(test_set, drug_count, on=['MemberID', 'Year'], how='inner')\n",
    "\n",
    "# Display the merged DataFrame\n",
    "print(merged_df)"
   ]
  },
  {
   "cell_type": "code",
   "execution_count": 10,
   "id": "53b79383-b6e3-4b07-bc3c-6a5678d711b2",
   "metadata": {},
   "outputs": [
    {
     "name": "stdout",
     "output_type": "stream",
     "text": [
      "'Vendor': [240043]\n",
      "'Year': ['Y1']\n",
      "'Specialty': ['Laboratory' nan]\n",
      "'PlaceSvc': ['Independent Lab' 'Office' nan]\n",
      "'LengthOfStay': [nan]\n",
      "'CharlsonIndex': ['1-2' '0' '3-4' '5+']\n",
      "'ProcedureGroup': ['PL' 'SCS' 'MED']\n",
      "'ClaimsTruncated': [0. 1.]\n",
      "'DaysInHospital': [ 0.  3.  7.  6.  2.  4. 15.  1.  5. 13.  8. 10.  9. 12. 14. 11.]\n",
      "'DaySinceFirstClaim': ['6- 7 months' '5- 6 months' '1- 2 months' '10-11 months' '4- 5 months'\n",
      " '3- 4 months' '0- 1 month' '7- 8 months' '9-10 months' '8- 9 months'\n",
      " '2- 3 months' '11-12 months' nan]\n",
      "'LOSSuppression': [0]\n",
      "'DSFS': ['6- 7 months' '0- 1 month' '10-11 months' '2- 3 months' '8- 9 months'\n",
      " '5- 6 months' '1- 2 months' '3- 4 months' '4- 5 months' '7- 8 months'\n",
      " '9-10 months' '11-12 months']\n",
      "'DrugCount': ['2' '3' '1' '4' '5' '6' '7+']\n"
     ]
    }
   ],
   "source": [
    "for col in merged_df.columns:\n",
    "    if col != 'MemberID':\n",
    "        unique_values = merged_df[col].unique()\n",
    "        if len(unique_values) < 20:\n",
    "            print(f\"'{col}': {unique_values}\")\n"
   ]
  },
  {
   "cell_type": "code",
   "execution_count": 11,
   "id": "e13022b1-5b75-4575-a35b-011ca8f3769c",
   "metadata": {},
   "outputs": [
    {
     "name": "stdout",
     "output_type": "stream",
     "text": [
      "         MemberID  Vendor    PCP Year   Specialty         PlaceSvc PayDelay  \\\n",
      "0        33385188  240043  68968   Y1  Laboratory  Independent Lab       24   \n",
      "1        33385188  240043  68968   Y1  Laboratory  Independent Lab       24   \n",
      "2        33385188  240043  68968   Y1  Laboratory  Independent Lab       24   \n",
      "3        33385188  240043  68968   Y1  Laboratory  Independent Lab       24   \n",
      "4        33385188  240043  68968   Y1  Laboratory  Independent Lab       24   \n",
      "...           ...     ...    ...  ...         ...              ...      ...   \n",
      "3109102  27578777  240043  77134   Y1  Laboratory  Independent Lab       29   \n",
      "3109103  27578777  240043  77134   Y1  Laboratory  Independent Lab       29   \n",
      "3109104  16280134  240043  48757   Y1  Laboratory  Independent Lab       36   \n",
      "3109105  16280134  240043  48757   Y1  Laboratory  Independent Lab       36   \n",
      "3109106  20528808  240043  26051   Y1  Laboratory  Independent Lab       30   \n",
      "\n",
      "         LengthOfStay PrimaryConditionGroup CharlsonIndex ProcedureGroup  \\\n",
      "0                 NaN                HEART2           1-2             PL   \n",
      "1                 NaN                HEART2           1-2             PL   \n",
      "2                 NaN                HEART2           1-2             PL   \n",
      "3                 NaN                HEART2           1-2             PL   \n",
      "4                 NaN                HEART2           1-2             PL   \n",
      "...               ...                   ...           ...            ...   \n",
      "3109102           NaN                MSC2a3             0             PL   \n",
      "3109103           NaN                MSC2a3             0             PL   \n",
      "3109104           NaN                RESPR4             0             PL   \n",
      "3109105           NaN                RESPR4             0             PL   \n",
      "3109106           NaN                TRAUMA             0             PL   \n",
      "\n",
      "         ClaimsTruncated  DaysInHospital DaySinceFirstClaim  LOSSuppression  \\\n",
      "0                    0.0             0.0        6- 7 months               0   \n",
      "1                    0.0             0.0        6- 7 months               0   \n",
      "2                    0.0             0.0        6- 7 months               0   \n",
      "3                    0.0             0.0        6- 7 months               0   \n",
      "4                    0.0             0.0        6- 7 months               0   \n",
      "...                  ...             ...                ...             ...   \n",
      "3109102              0.0             0.0        5- 6 months               0   \n",
      "3109103              0.0             0.0        5- 6 months               0   \n",
      "3109104              0.0             0.0         0- 1 month               0   \n",
      "3109105              0.0             0.0         0- 1 month               0   \n",
      "3109106              0.0             0.0         0- 1 month               0   \n",
      "\n",
      "              DSFS_x DrugCount       DSFS_y LabCount  \n",
      "0        6- 7 months         2  6- 7 months        9  \n",
      "1        6- 7 months         2   0- 1 month        1  \n",
      "2        6- 7 months         2  3- 4 months        1  \n",
      "3        6- 7 months         2  2- 3 months        1  \n",
      "4        6- 7 months         2  4- 5 months        1  \n",
      "...              ...       ...          ...      ...  \n",
      "3109102   0- 1 month         2  5- 6 months        4  \n",
      "3109103  8- 9 months         1  5- 6 months        4  \n",
      "3109104   0- 1 month         2   0- 1 month        1  \n",
      "3109105   0- 1 month         2  3- 4 months        2  \n",
      "3109106   0- 1 month         5   0- 1 month        1  \n",
      "\n",
      "[3109107 rows x 19 columns]\n"
     ]
    }
   ],
   "source": [
    "combined_df = pd.merge(merged_df, lab_count, on=['MemberID', 'Year'], how='inner')\n",
    "\n",
    "# Display the combined DataFrame\n",
    "print(combined_df)"
   ]
  },
  {
   "cell_type": "code",
   "execution_count": 12,
   "id": "5ebc4ab2-f99b-4c47-b0e4-f5f042ab797a",
   "metadata": {},
   "outputs": [
    {
     "data": {
      "text/plain": [
       "MemberID                       0\n",
       "Vendor                         0\n",
       "PCP                            0\n",
       "Year                           0\n",
       "Specialty                    255\n",
       "PlaceSvc                     175\n",
       "PayDelay                       0\n",
       "LengthOfStay             3109107\n",
       "PrimaryConditionGroup        673\n",
       "CharlsonIndex                  0\n",
       "ProcedureGroup                 0\n",
       "ClaimsTruncated                0\n",
       "DaysInHospital                 0\n",
       "DaySinceFirstClaim          4974\n",
       "LOSSuppression                 0\n",
       "DSFS_x                         0\n",
       "DrugCount                      0\n",
       "DSFS_y                         0\n",
       "LabCount                       0\n",
       "dtype: int64"
      ]
     },
     "execution_count": 12,
     "metadata": {},
     "output_type": "execute_result"
    }
   ],
   "source": [
    "combined_df.isnull().sum()"
   ]
  },
  {
   "cell_type": "code",
   "execution_count": 13,
   "id": "fd8b644e-0701-42d9-b15c-5e2bdde80256",
   "metadata": {},
   "outputs": [
    {
     "name": "stdout",
     "output_type": "stream",
     "text": [
      "         MemberID  Vendor    PCP Year   Specialty         PlaceSvc PayDelay  \\\n",
      "0        33385188  240043  68968   Y1  Laboratory  Independent Lab       24   \n",
      "1        33385188  240043  68968   Y1  Laboratory  Independent Lab       24   \n",
      "2        33385188  240043  68968   Y1  Laboratory  Independent Lab       24   \n",
      "3        33385188  240043  68968   Y1  Laboratory  Independent Lab       24   \n",
      "4        33385188  240043  68968   Y1  Laboratory  Independent Lab       24   \n",
      "...           ...     ...    ...  ...         ...              ...      ...   \n",
      "3109102  27578777  240043  77134   Y1  Laboratory  Independent Lab       29   \n",
      "3109103  27578777  240043  77134   Y1  Laboratory  Independent Lab       29   \n",
      "3109104  16280134  240043  48757   Y1  Laboratory  Independent Lab       36   \n",
      "3109105  16280134  240043  48757   Y1  Laboratory  Independent Lab       36   \n",
      "3109106  20528808  240043  26051   Y1  Laboratory  Independent Lab       30   \n",
      "\n",
      "         LengthOfStay PrimaryConditionGroup CharlsonIndex  ...  \\\n",
      "0                 NaN                HEART2           1-2  ...   \n",
      "1                 NaN                HEART2           1-2  ...   \n",
      "2                 NaN                HEART2           1-2  ...   \n",
      "3                 NaN                HEART2           1-2  ...   \n",
      "4                 NaN                HEART2           1-2  ...   \n",
      "...               ...                   ...           ...  ...   \n",
      "3109102           NaN                MSC2a3             0  ...   \n",
      "3109103           NaN                MSC2a3             0  ...   \n",
      "3109104           NaN                RESPR4             0  ...   \n",
      "3109105           NaN                RESPR4             0  ...   \n",
      "3109106           NaN                TRAUMA             0  ...   \n",
      "\n",
      "        ClaimsTruncated  DaysInHospital  DaySinceFirstClaim LOSSuppression  \\\n",
      "0                   0.0             0.0         6- 7 months              0   \n",
      "1                   0.0             0.0         6- 7 months              0   \n",
      "2                   0.0             0.0         6- 7 months              0   \n",
      "3                   0.0             0.0         6- 7 months              0   \n",
      "4                   0.0             0.0         6- 7 months              0   \n",
      "...                 ...             ...                 ...            ...   \n",
      "3109102             0.0             0.0         5- 6 months              0   \n",
      "3109103             0.0             0.0         5- 6 months              0   \n",
      "3109104             0.0             0.0          0- 1 month              0   \n",
      "3109105             0.0             0.0          0- 1 month              0   \n",
      "3109106             0.0             0.0          0- 1 month              0   \n",
      "\n",
      "              DSFS_x DrugCount       DSFS_y LabCount AgeAtFirstClaim Sex  \n",
      "0        6- 7 months         2  6- 7 months        9           70-79   F  \n",
      "1        6- 7 months         2   0- 1 month        1           70-79   F  \n",
      "2        6- 7 months         2  3- 4 months        1           70-79   F  \n",
      "3        6- 7 months         2  2- 3 months        1           70-79   F  \n",
      "4        6- 7 months         2  4- 5 months        1           70-79   F  \n",
      "...              ...       ...          ...      ...             ...  ..  \n",
      "3109102   0- 1 month         2  5- 6 months        4           40-49   M  \n",
      "3109103  8- 9 months         1  5- 6 months        4           40-49   M  \n",
      "3109104   0- 1 month         2   0- 1 month        1             0-9   F  \n",
      "3109105   0- 1 month         2  3- 4 months        2             0-9   F  \n",
      "3109106   0- 1 month         5   0- 1 month        1             NaN   M  \n",
      "\n",
      "[3109107 rows x 21 columns]\n"
     ]
    }
   ],
   "source": [
    "final_df = pd.merge(combined_df, members, on='MemberID', how='inner')\n",
    "\n",
    "# Display the final DataFrame\n",
    "print(final_df)"
   ]
  },
  {
   "cell_type": "code",
   "execution_count": 14,
   "id": "7d12a8b6-50bb-4de6-9eb4-39155627b047",
   "metadata": {},
   "outputs": [
    {
     "name": "stdout",
     "output_type": "stream",
     "text": [
      "Categorical Columns:\n",
      "Index(['Year', 'Specialty', 'PlaceSvc', 'PayDelay', 'PrimaryConditionGroup',\n",
      "       'CharlsonIndex', 'ProcedureGroup', 'DaySinceFirstClaim', 'DSFS_x',\n",
      "       'DrugCount', 'DSFS_y', 'LabCount', 'AgeAtFirstClaim', 'Sex'],\n",
      "      dtype='object')\n",
      "\n",
      "Numerical Columns:\n",
      "Index(['MemberID', 'Vendor', 'PCP', 'LengthOfStay', 'ClaimsTruncated',\n",
      "       'DaysInHospital', 'LOSSuppression'],\n",
      "      dtype='object')\n"
     ]
    }
   ],
   "source": [
    "categorical_cols = final_df.select_dtypes(include=['object', 'category']).columns\n",
    "numerical_cols = final_df.select_dtypes(include=['int', 'float']).columns\n",
    "\n",
    "# Display the categorical and numerical columns\n",
    "print(\"Categorical Columns:\")\n",
    "print(categorical_cols)\n",
    "print(\"\\nNumerical Columns:\")\n",
    "print(numerical_cols)"
   ]
  },
  {
   "cell_type": "code",
   "execution_count": 15,
   "id": "5a5b2629-43e9-4285-817b-0ef6feef3d9e",
   "metadata": {},
   "outputs": [],
   "source": [
    "final_df.drop(['DSFS_x','DSFS_y'],axis=1,inplace=True)"
   ]
  },
  {
   "cell_type": "code",
   "execution_count": 18,
   "id": "c9d4ad41-2d7b-46fc-bccc-71562eed676f",
   "metadata": {},
   "outputs": [
    {
     "data": {
      "text/html": [
       "<div>\n",
       "<style scoped>\n",
       "    .dataframe tbody tr th:only-of-type {\n",
       "        vertical-align: middle;\n",
       "    }\n",
       "\n",
       "    .dataframe tbody tr th {\n",
       "        vertical-align: top;\n",
       "    }\n",
       "\n",
       "    .dataframe thead th {\n",
       "        text-align: right;\n",
       "    }\n",
       "</style>\n",
       "<table border=\"1\" class=\"dataframe\">\n",
       "  <thead>\n",
       "    <tr style=\"text-align: right;\">\n",
       "      <th></th>\n",
       "      <th>MemberID</th>\n",
       "      <th>Vendor</th>\n",
       "      <th>PCP</th>\n",
       "      <th>Year</th>\n",
       "      <th>Specialty</th>\n",
       "      <th>PlaceSvc</th>\n",
       "      <th>PayDelay</th>\n",
       "      <th>PrimaryConditionGroup</th>\n",
       "      <th>CharlsonIndex</th>\n",
       "      <th>ProcedureGroup</th>\n",
       "      <th>ClaimsTruncated</th>\n",
       "      <th>DaysInHospital</th>\n",
       "      <th>DaySinceFirstClaim</th>\n",
       "      <th>LOSSuppression</th>\n",
       "      <th>DrugCount</th>\n",
       "      <th>LabCount</th>\n",
       "      <th>AgeAtFirstClaim</th>\n",
       "      <th>Sex</th>\n",
       "    </tr>\n",
       "  </thead>\n",
       "  <tbody>\n",
       "  </tbody>\n",
       "</table>\n",
       "</div>"
      ],
      "text/plain": [
       "Empty DataFrame\n",
       "Columns: [MemberID, Vendor, PCP, Year, Specialty, PlaceSvc, PayDelay, PrimaryConditionGroup, CharlsonIndex, ProcedureGroup, ClaimsTruncated, DaysInHospital, DaySinceFirstClaim, LOSSuppression, DrugCount, LabCount, AgeAtFirstClaim, Sex]\n",
       "Index: []"
      ]
     },
     "execution_count": 18,
     "metadata": {},
     "output_type": "execute_result"
    }
   ],
   "source": [
    "final_df.drop(['LengthOfStay'],axis=1,inplace=True)\n",
    "final_df['Sex'].fillna(\"Unknown\", inplace=True)\n",
    "final_df['AgeAtFirstClaim'].fillna(\"Unknown\", inplace=True)\n",
    "final_df[final_df['DaySinceFirstClaim'].isnull() ]"
   ]
  },
  {
   "cell_type": "code",
   "execution_count": 19,
   "id": "d8b6dced-6480-4753-8d2a-98bd637e71f3",
   "metadata": {},
   "outputs": [],
   "source": [
    "#handling speciality\n",
    "# final_df[final_df['Specialty'].isnull()]\n",
    "final_df.dropna(subset=['Specialty'], inplace=True)\n"
   ]
  },
  {
   "cell_type": "code",
   "execution_count": 20,
   "id": "c756b426-ac96-4940-84ff-e30e413c9327",
   "metadata": {},
   "outputs": [],
   "source": [
    "#handling PlaceSvc\n",
    "final_df.dropna(subset=['PlaceSvc'], inplace=True)\n"
   ]
  },
  {
   "cell_type": "code",
   "execution_count": 21,
   "id": "5310c441-c7e8-4a8f-a097-88087d1e834c",
   "metadata": {},
   "outputs": [],
   "source": [
    "final_df.dropna(subset=['DaySinceFirstClaim'], inplace=True)"
   ]
  },
  {
   "cell_type": "code",
   "execution_count": 22,
   "id": "fc747006-8d1e-431d-9772-64322d54a0a8",
   "metadata": {},
   "outputs": [],
   "source": [
    "final_df.dropna(subset=['ProcedureGroup'], inplace=True)"
   ]
  },
  {
   "cell_type": "code",
   "execution_count": 23,
   "id": "ec8966f0-9bf7-4850-8083-1dbeb01faf51",
   "metadata": {},
   "outputs": [
    {
     "data": {
      "text/plain": [
       "MemberID                   0\n",
       "Vendor                     0\n",
       "PCP                        0\n",
       "Year                       0\n",
       "Specialty                  0\n",
       "PlaceSvc                   0\n",
       "PayDelay                   0\n",
       "PrimaryConditionGroup    436\n",
       "CharlsonIndex              0\n",
       "ProcedureGroup             0\n",
       "ClaimsTruncated            0\n",
       "DaysInHospital             0\n",
       "DaySinceFirstClaim         0\n",
       "LOSSuppression             0\n",
       "DrugCount                  0\n",
       "LabCount                   0\n",
       "AgeAtFirstClaim            0\n",
       "Sex                        0\n",
       "dtype: int64"
      ]
     },
     "execution_count": 23,
     "metadata": {},
     "output_type": "execute_result"
    }
   ],
   "source": [
    "final_df.isnull().sum()"
   ]
  },
  {
   "cell_type": "code",
   "execution_count": 24,
   "id": "ec994c4f-4d53-4a1a-bd37-9e7c7b5146fa",
   "metadata": {},
   "outputs": [],
   "source": [
    "# Define LabelEncoder`\n",
    "le = LabelEncoder()\n",
    "\n",
    "# Encode DrugCount (assuming order matters)\n",
    "final_df['DrugCount'] = le.fit_transform(final_df['DrugCount'])\n",
    "\n",
    "# Encode LabCount (assuming order matters)\n",
    "final_df['LabCount'] = le.fit_transform(final_df['LabCount'])\n"
   ]
  },
  {
   "cell_type": "code",
   "execution_count": 25,
   "id": "230b1ee6-fcf2-4257-aa04-d7fbdab19ddf",
   "metadata": {},
   "outputs": [],
   "source": [
    "# Encode PlaceSvc\n",
    "final_df['PlaceSvc'] = le.fit_transform(final_df['PlaceSvc'])\n",
    "\n",
    "# Encode CharlsonIndex\n",
    "final_df['CharlsonIndex'] = le.fit_transform(final_df['CharlsonIndex'])\n",
    "\n",
    "# Encode ProcedureGroup\n",
    "final_df['ProcedureGroup'] = le.fit_transform(final_df['ProcedureGroup'])\n",
    "\n",
    "# Encode DaySinceFirstClaim (consider binning if many categories)\n",
    "final_df['DaySinceFirstClaim'] = le.fit_transform(final_df['DaySinceFirstClaim'])\n",
    "\n",
    "# Encode AgeAtFirstClaim (consider binning if many categories)\n",
    "final_df['AgeAtFirstClaim'] = le.fit_transform(final_df['AgeAtFirstClaim'])\n",
    "\n",
    "# Encode Sex (consider treating \"Unknown\" as a separate category)\n",
    "final_df['Sex'] = le.fit_transform(final_df['Sex'])\n"
   ]
  },
  {
   "cell_type": "code",
   "execution_count": null,
   "id": "c632aa9f-a557-4a4e-9d87-d8255fda9735",
   "metadata": {},
   "outputs": [],
   "source": [
    "final_df.dropna(inplace=True)"
   ]
  },
  {
   "cell_type": "code",
   "execution_count": 27,
   "id": "2fffcf3f-321a-4216-bd64-b7455d684000",
   "metadata": {},
   "outputs": [],
   "source": [
    "final_df.dropna(subset=['PrimaryConditionGroup'],inplace=True)"
   ]
  },
  {
   "cell_type": "code",
   "execution_count": 28,
   "id": "5a42b9a4-1c9b-46cb-9c9e-0a93b412db1e",
   "metadata": {},
   "outputs": [
    {
     "data": {
      "text/plain": [
       "MemberID                 0\n",
       "Vendor                   0\n",
       "PCP                      0\n",
       "Year                     0\n",
       "Specialty                0\n",
       "PlaceSvc                 0\n",
       "PayDelay                 0\n",
       "PrimaryConditionGroup    0\n",
       "CharlsonIndex            0\n",
       "ProcedureGroup           0\n",
       "ClaimsTruncated          0\n",
       "DaysInHospital           0\n",
       "DaySinceFirstClaim       0\n",
       "LOSSuppression           0\n",
       "DrugCount                0\n",
       "LabCount                 0\n",
       "AgeAtFirstClaim          0\n",
       "Sex                      0\n",
       "dtype: int64"
      ]
     },
     "execution_count": 28,
     "metadata": {},
     "output_type": "execute_result"
    }
   ],
   "source": [
    "final_df.isnull().sum()"
   ]
  },
  {
   "cell_type": "code",
   "execution_count": 29,
   "id": "65087f05-7bfa-4736-be4e-6235b50ef6d2",
   "metadata": {},
   "outputs": [
    {
     "name": "stderr",
     "output_type": "stream",
     "text": [
      "C:\\Users\\eshiv\\anaconda3\\Lib\\site-packages\\sklearn\\preprocessing\\_encoders.py:868: FutureWarning: `sparse` was renamed to `sparse_output` in version 1.2 and will be removed in 1.4. `sparse_output` is ignored unless you leave `sparse` to its default value.\n",
      "  warnings.warn(\n"
     ]
    }
   ],
   "source": [
    "# Convert ClaimsTruncated to binary\n",
    "final_df['ClaimsTruncated_binary'] = final_df['ClaimsTruncated'].map({0: 0, 1: 1})\n",
    "\n",
    "# One-Hot Encode ClaimsTruncated_binary\n",
    "ohe = OneHotEncoder(sparse=False)\n",
    "claims_encoded = ohe.fit_transform(final_df[['ClaimsTruncated_binary']])\n",
    "claims_cols = ['ClaimsTruncated_0', 'ClaimsTruncated_1']\n",
    "claims_df = pd.DataFrame(claims_encoded, columns=claims_cols)\n",
    "final_df = pd.concat([final_df, claims_df], axis=1)\n",
    "\n",
    "# Drop the original ClaimsTruncated column (optional+)\n",
    "final_df = final_df.drop('ClaimsTruncated', axis=1)\n",
    "\n",
    "final_df = final_df.drop('ClaimsTruncated_binary', axis=1)\n",
    "final_df.dropna(inplace=True)"
   ]
  },
  {
   "cell_type": "code",
   "execution_count": 30,
   "id": "50eb5fa6-6540-494e-ae92-723919437971",
   "metadata": {},
   "outputs": [],
   "source": [
    "final_df.to_csv('train_0.csv', index=False) "
   ]
  },
  {
   "cell_type": "code",
   "execution_count": null,
   "id": "5c6dfb39-793b-4dea-9b09-12d8532afb51",
   "metadata": {},
   "outputs": [],
   "source": []
  }
 ],
 "metadata": {
  "kernelspec": {
   "display_name": "Python 3 (ipykernel)",
   "language": "python",
   "name": "python3"
  },
  "language_info": {
   "codemirror_mode": {
    "name": "ipython",
    "version": 3
   },
   "file_extension": ".py",
   "mimetype": "text/x-python",
   "name": "python",
   "nbconvert_exporter": "python",
   "pygments_lexer": "ipython3",
   "version": "3.11.7"
  }
 },
 "nbformat": 4,
 "nbformat_minor": 5
}
